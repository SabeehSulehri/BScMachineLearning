{
 "cells": [
  {
   "cell_type": "markdown",
   "id": "c0856062",
   "metadata": {},
   "source": [
    "Jacobs University\n",
    "Machine Learning\n",
    "\n",
    "Sabeeh ur Rehman Sulehri"
   ]
  },
  {
   "cell_type": "markdown",
   "id": "48e1ebf2",
   "metadata": {},
   "source": [
    "Declaring and Initializing the Data(matrices) and libraries needed."
   ]
  },
  {
   "cell_type": "code",
   "execution_count": 7,
   "id": "5ed8bc9e",
   "metadata": {},
   "outputs": [
    {
     "name": "stdout",
     "output_type": "stream",
     "text": [
      "a= [1 1 0]  b= [-1  2  5] \n",
      " M=\n",
      " [[ 2 -1  0]\n",
      " [-1  2 -1]\n",
      " [ 0 -1  2]]\n"
     ]
    }
   ],
   "source": [
    "import numpy as np\n",
    "\n",
    "a = np.array([1,1,0])\n",
    "b = np.array([-1,2,5])\n",
    "\n",
    "M = np.array([[2,-1,0],\n",
    "              [-1,2,-1],\n",
    "              [0,-1,2]])\n",
    "\n",
    "print(\"a=\",a,\" b=\",b,\"\\n M=\\n\",M)"
   ]
  },
  {
   "cell_type": "markdown",
   "id": "f4b5dcb8",
   "metadata": {},
   "source": [
    "Computing the inner product between a and b."
   ]
  },
  {
   "cell_type": "code",
   "execution_count": 8,
   "id": "f8acb15e",
   "metadata": {},
   "outputs": [
    {
     "name": "stdout",
     "output_type": "stream",
     "text": [
      "1\n"
     ]
    }
   ],
   "source": [
    "print(np.dot(a,b))"
   ]
  },
  {
   "cell_type": "markdown",
   "id": "8bea8475",
   "metadata": {},
   "source": [
    "Computing the Matrix-Vector product between M and b."
   ]
  },
  {
   "cell_type": "code",
   "execution_count": 9,
   "id": "7d0c98f4",
   "metadata": {},
   "outputs": [
    {
     "name": "stdout",
     "output_type": "stream",
     "text": [
      "[[-2 -2  0]\n",
      " [ 1  4 -5]\n",
      " [ 0 -2 10]]\n"
     ]
    }
   ],
   "source": [
    "print(M*b)"
   ]
  },
  {
   "cell_type": "markdown",
   "id": "69ed7c3f",
   "metadata": {},
   "source": [
    "Computing the L2 norm of b."
   ]
  },
  {
   "cell_type": "code",
   "execution_count": 11,
   "id": "5ccf7f7a",
   "metadata": {},
   "outputs": [
    {
     "name": "stdout",
     "output_type": "stream",
     "text": [
      "5.477225575051661\n"
     ]
    }
   ],
   "source": [
    "print(np.linalg.norm(b))"
   ]
  },
  {
   "cell_type": "markdown",
   "id": "a0b09ba5",
   "metadata": {},
   "source": [
    "Computing and printing the the solution x of the linear system of equations Mx = b using the LU factorization."
   ]
  },
  {
   "cell_type": "code",
   "execution_count": 14,
   "id": "eb559c69",
   "metadata": {},
   "outputs": [
    {
     "name": "stdout",
     "output_type": "stream",
     "text": [
      "(array([[ 2.        , -1.        ,  0.        ],\n",
      "       [-0.5       ,  1.5       , -1.        ],\n",
      "       [ 0.        , -0.66666667,  1.33333333]]), array([0, 1, 2], dtype=int32))\n",
      "[1.5 4.  4.5]\n"
     ]
    },
    {
     "data": {
      "text/plain": [
       "True"
      ]
     },
     "execution_count": 14,
     "metadata": {},
     "output_type": "execute_result"
    }
   ],
   "source": [
    "import scipy.linalg as la\n",
    "\n",
    "LU = la.lu_factor(M)\n",
    "print(LU)\n",
    "\n",
    "x = la.lu_solve(LU,b)\n",
    "print(x)\n",
    "\n",
    "np.allclose(np.dot(M,x), b)"
   ]
  },
  {
   "cell_type": "markdown",
   "id": "a8961897",
   "metadata": {},
   "source": [
    "Computing and printing the the solution x of the linear system of equations M x = b using the Cholesky factorization."
   ]
  },
  {
   "cell_type": "code",
   "execution_count": 15,
   "id": "8a711b8c",
   "metadata": {},
   "outputs": [
    {
     "name": "stdout",
     "output_type": "stream",
     "text": [
      "(array([[ 1.41421356, -0.70710678,  0.        ],\n",
      "       [-1.        ,  1.22474487, -0.81649658],\n",
      "       [ 0.        , -1.        ,  1.15470054]]), False)\n",
      "[1.5 4.  4.5]\n"
     ]
    }
   ],
   "source": [
    "LU = la.cho_factor(M)\n",
    "print(LU)\n",
    "\n",
    "x = la.cho_solve(LU,b)\n",
    "print(x)"
   ]
  },
  {
   "cell_type": "markdown",
   "id": "7f434f60",
   "metadata": {},
   "source": [
    "We can clearly see that the answer is the same for Mx=b whether done by LU factorization or Cholesky factorization."
   ]
  }
 ],
 "metadata": {
  "kernelspec": {
   "display_name": "Python 3 (ipykernel)",
   "language": "python",
   "name": "python3"
  },
  "language_info": {
   "codemirror_mode": {
    "name": "ipython",
    "version": 3
   },
   "file_extension": ".py",
   "mimetype": "text/x-python",
   "name": "python",
   "nbconvert_exporter": "python",
   "pygments_lexer": "ipython3",
   "version": "3.9.12"
  }
 },
 "nbformat": 4,
 "nbformat_minor": 5
}
